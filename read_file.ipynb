{
 "cells": [
  {
   "cell_type": "code",
   "execution_count": null,
   "id": "7ec81562",
   "metadata": {},
   "outputs": [],
   "source": [
    "import pandas as pd"
   ]
  },
  {
   "cell_type": "code",
   "execution_count": null,
   "id": "dc4fef35",
   "metadata": {},
   "outputs": [],
   "source": [
    "df = pd.read_csv('https://flunky.github.io/cars2017.csv')\n",
    "df.head()"
   ]
  }
 ],
 "metadata": {
  "kernelspec": {
   "display_name": "base",
   "language": "python",
   "name": "python3"
  },
  "language_info": {
   "name": "python",
   "version": "3.9.13"
  }
 },
 "nbformat": 4,
 "nbformat_minor": 5
}
